{
  "nbformat": 4,
  "nbformat_minor": 0,
  "metadata": {
    "colab": {
      "provenance": [],
      "authorship_tag": "ABX9TyNs2lcdW2FheDOiW4BkfmQL",
      "include_colab_link": true
    },
    "kernelspec": {
      "name": "python3",
      "display_name": "Python 3"
    },
    "language_info": {
      "name": "python"
    }
  },
  "cells": [
    {
      "cell_type": "markdown",
      "metadata": {
        "id": "view-in-github",
        "colab_type": "text"
      },
      "source": [
        "<a href=\"https://colab.research.google.com/github/Aaditya17032002/AutoML/blob/main/Hindi_POS.ipynb\" target=\"_parent\"><img src=\"https://colab.research.google.com/assets/colab-badge.svg\" alt=\"Open In Colab\"/></a>"
      ]
    },
    {
      "cell_type": "markdown",
      "source": [
        "### **First Preprocess the corpus and create output.csv file for model**"
      ],
      "metadata": {
        "id": "JLbLkjp6Tegc"
      }
    },
    {
      "cell_type": "code",
      "source": [
        "import pandas as pd\n",
        "import re\n",
        "\n",
        "# example dataset\n",
        "with open('1_Tagged_Hindi_Corpus.txt', 'r') as f:\n",
        "    data = f.readlines()\n",
        "\n",
        "# create an empty dataframe to store the results\n",
        "df = pd.DataFrame(columns=['hindi', 'english'])\n",
        "\n",
        "# iterate over each sentence in the dataset\n",
        "for sentence in data:\n",
        "    # split the sentence using regex and extract the relevant parts\n",
        "    split_sentence = re.findall(r'([\\u0900-\\u097F]+\\|[^|]+\\|)([A-Za-z]+)\\..*', sentence)\n",
        "    # add the split sentence to the dataframe\n",
        "    for word in split_sentence:\n",
        "        hindi_word = re.sub(r'[^\\u0900-\\u097F ]', '', word[0].split('|')[0])\n",
        "        english_word = re.sub(r'[^A-Z]', '', word[1].upper())\n",
        "        df = df.append({'hindi': hindi_word, 'english': english_word}, ignore_index=True)\n",
        "\n",
        "# remove rows with missing values\n",
        "df = df.dropna(subset=['hindi', 'english'])\n",
        "\n",
        "# save dataframe to CSV file\n",
        "df.to_csv('output.csv', index=False)\n"
      ],
      "metadata": {
        "id": "ztC2b1FMK72t"
      },
      "execution_count": null,
      "outputs": []
    },
    {
      "cell_type": "markdown",
      "source": [
        "# **load csv in X and y and then tokenize and padd the X and then split data into train and test**"
      ],
      "metadata": {
        "id": "kvOahJFbTYfe"
      }
    },
    {
      "cell_type": "code",
      "source": [
        "import pandas as pd\n",
        "from sklearn.model_selection import train_test_split\n",
        "from tensorflow.keras.preprocessing.text import Tokenizer\n",
        "from tensorflow.keras.preprocessing.sequence import pad_sequences\n",
        "\n",
        "# Load the data from CSV file\n",
        "preprocessed_data = pd.read_csv('output.csv')\n",
        "\n",
        "# Split the data into X and y\n",
        "X = preprocessed_data[\"hindi\"].values\n",
        "y = preprocessed_data[\"english\"].values\n",
        "\n",
        "# Tokenize and pad the sequences\n",
        "tokenizer = Tokenizer()\n",
        "tokenizer.fit_on_texts(X)\n",
        "X = tokenizer.texts_to_sequences(X)\n",
        "X = pad_sequences(X, maxlen=50, padding='post', truncating='post')\n",
        "\n",
        "# Split the data into train and test sets\n",
        "X_train, X_test, y_train, y_test = train_test_split(X, y, test_size=0.2, random_state=42)\n"
      ],
      "metadata": {
        "id": "kJQhKdG3JXZu"
      },
      "execution_count": null,
      "outputs": []
    },
    {
      "cell_type": "markdown",
      "source": [
        "# **Label encode the y or map integers to each labels**"
      ],
      "metadata": {
        "id": "53YXmHitT_eL"
      }
    },
    {
      "cell_type": "code",
      "source": [
        "from sklearn.preprocessing import LabelEncoder\n",
        "from tensorflow.keras.utils import to_categorical\n",
        "\n",
        "# Encode string labels to integer labels\n",
        "label_encoder = LabelEncoder()\n",
        "y_train = label_encoder.fit_transform(y_train)\n",
        "y_test = label_encoder.transform(y_test)\n",
        "\n",
        "y_train_cat = to_categorical(y_train, num_classes=41)\n",
        "y_test_cat = to_categorical(y_test, num_classes=41)\n",
        "\n"
      ],
      "metadata": {
        "id": "sIUsZ-6mP2LM"
      },
      "execution_count": null,
      "outputs": []
    },
    {
      "cell_type": "markdown",
      "source": [
        "# **Load the model and we are using bidirectional LSTM here as one bidirectional lstm layr consists of two hidden layer one for storing previous data and one for future data and also can process in both directions**"
      ],
      "metadata": {
        "id": "hxtF_Ef5UIaj"
      }
    },
    {
      "cell_type": "code",
      "source": [
        "from tensorflow.keras.models import Sequential\n",
        "from tensorflow.keras.layers import Embedding, LSTM, Bidirectional, Dense, Dropout\n",
        "\n",
        "\n",
        "# Define the model\n",
        "model = Sequential()\n",
        "model.add(Embedding(len(tokenizer.word_index) + 1, 128, input_length=50))\n",
        "model.add(Bidirectional(LSTM(128, return_sequences=True)))\n",
        "model.add(Dropout(0.2))\n",
        "model.add(Bidirectional(LSTM(64)))\n",
        "model.add(Dropout(0.2))\n",
        "model.add(Dense(64, activation='relu'))\n",
        "model.add(Dense(41, activation='softmax'))  # Change activation function and output size\n",
        "\n",
        "# Compile the model\n",
        "model.compile(loss='categorical_crossentropy', optimizer='adam', metrics=['accuracy'])\n",
        "\n",
        "# Train the model\n",
        "model.fit(X_train, y_train_cat, epochs=50, batch_size=5, validation_data=(X_test, y_test_cat))"
      ],
      "metadata": {
        "colab": {
          "base_uri": "https://localhost:8080/"
        },
        "id": "ky3htdPEQrkw",
        "outputId": "d32425a2-adb0-4c9e-896c-00d05822478e"
      },
      "execution_count": null,
      "outputs": [
        {
          "output_type": "stream",
          "name": "stdout",
          "text": [
            "Epoch 1/50\n",
            "38/38 [==============================] - 16s 192ms/step - loss: 2.8728 - accuracy: 0.2581 - val_loss: 2.3195 - val_accuracy: 0.1702\n",
            "Epoch 2/50\n",
            "38/38 [==============================] - 6s 158ms/step - loss: 2.2846 - accuracy: 0.2419 - val_loss: 2.2735 - val_accuracy: 0.2128\n",
            "Epoch 3/50\n",
            "38/38 [==============================] - 5s 137ms/step - loss: 2.2434 - accuracy: 0.3118 - val_loss: 2.3632 - val_accuracy: 0.1702\n",
            "Epoch 4/50\n",
            "38/38 [==============================] - 7s 174ms/step - loss: 2.1935 - accuracy: 0.2903 - val_loss: 2.2597 - val_accuracy: 0.2128\n",
            "Epoch 5/50\n",
            "38/38 [==============================] - 5s 138ms/step - loss: 2.1668 - accuracy: 0.2366 - val_loss: 2.2185 - val_accuracy: 0.1702\n",
            "Epoch 6/50\n",
            "38/38 [==============================] - 7s 173ms/step - loss: 1.9592 - accuracy: 0.3495 - val_loss: 2.0230 - val_accuracy: 0.3191\n",
            "Epoch 7/50\n",
            "38/38 [==============================] - 5s 137ms/step - loss: 1.7104 - accuracy: 0.3602 - val_loss: 1.9818 - val_accuracy: 0.3830\n",
            "Epoch 8/50\n",
            "38/38 [==============================] - 7s 189ms/step - loss: 1.5024 - accuracy: 0.3817 - val_loss: 1.8738 - val_accuracy: 0.3404\n",
            "Epoch 9/50\n",
            "38/38 [==============================] - 5s 136ms/step - loss: 1.3425 - accuracy: 0.4355 - val_loss: 1.9648 - val_accuracy: 0.2340\n",
            "Epoch 10/50\n",
            "38/38 [==============================] - 6s 156ms/step - loss: 1.3288 - accuracy: 0.4677 - val_loss: 1.8245 - val_accuracy: 0.4255\n",
            "Epoch 11/50\n",
            "38/38 [==============================] - 6s 151ms/step - loss: 1.1176 - accuracy: 0.6022 - val_loss: 1.9926 - val_accuracy: 0.4043\n",
            "Epoch 12/50\n",
            "38/38 [==============================] - 5s 137ms/step - loss: 0.9343 - accuracy: 0.7312 - val_loss: 1.9674 - val_accuracy: 0.4468\n",
            "Epoch 13/50\n",
            "38/38 [==============================] - 6s 171ms/step - loss: 0.7966 - accuracy: 0.7742 - val_loss: 1.9838 - val_accuracy: 0.4255\n",
            "Epoch 14/50\n",
            "38/38 [==============================] - 5s 137ms/step - loss: 0.7375 - accuracy: 0.7849 - val_loss: 2.1457 - val_accuracy: 0.4043\n",
            "Epoch 15/50\n",
            "38/38 [==============================] - 6s 171ms/step - loss: 0.6223 - accuracy: 0.8226 - val_loss: 2.4084 - val_accuracy: 0.3617\n",
            "Epoch 16/50\n",
            "38/38 [==============================] - 5s 135ms/step - loss: 0.5776 - accuracy: 0.8280 - val_loss: 2.4426 - val_accuracy: 0.3617\n",
            "Epoch 17/50\n",
            "38/38 [==============================] - 7s 175ms/step - loss: 0.4656 - accuracy: 0.8656 - val_loss: 2.4747 - val_accuracy: 0.3617\n",
            "Epoch 18/50\n",
            "38/38 [==============================] - 5s 134ms/step - loss: 0.4242 - accuracy: 0.8710 - val_loss: 2.6530 - val_accuracy: 0.3617\n",
            "Epoch 19/50\n",
            "38/38 [==============================] - 5s 143ms/step - loss: 0.4581 - accuracy: 0.8602 - val_loss: 3.0449 - val_accuracy: 0.3830\n",
            "Epoch 20/50\n",
            "38/38 [==============================] - 6s 163ms/step - loss: 0.4297 - accuracy: 0.8656 - val_loss: 2.7816 - val_accuracy: 0.3617\n",
            "Epoch 21/50\n",
            "38/38 [==============================] - 5s 135ms/step - loss: 0.3781 - accuracy: 0.8871 - val_loss: 2.5574 - val_accuracy: 0.4043\n",
            "Epoch 22/50\n",
            "38/38 [==============================] - 6s 170ms/step - loss: 0.3981 - accuracy: 0.8817 - val_loss: 2.6286 - val_accuracy: 0.3617\n",
            "Epoch 23/50\n",
            "38/38 [==============================] - 5s 134ms/step - loss: 0.3011 - accuracy: 0.9086 - val_loss: 2.5922 - val_accuracy: 0.3830\n",
            "Epoch 24/50\n",
            "38/38 [==============================] - 7s 173ms/step - loss: 0.2453 - accuracy: 0.9301 - val_loss: 3.1925 - val_accuracy: 0.3830\n",
            "Epoch 25/50\n",
            "38/38 [==============================] - 5s 137ms/step - loss: 0.2186 - accuracy: 0.9247 - val_loss: 2.9742 - val_accuracy: 0.3830\n",
            "Epoch 26/50\n",
            "38/38 [==============================] - 6s 162ms/step - loss: 0.2078 - accuracy: 0.9301 - val_loss: 3.2329 - val_accuracy: 0.3830\n",
            "Epoch 27/50\n",
            "38/38 [==============================] - 5s 141ms/step - loss: 0.1866 - accuracy: 0.9301 - val_loss: 3.4424 - val_accuracy: 0.3830\n",
            "Epoch 28/50\n",
            "38/38 [==============================] - 5s 137ms/step - loss: 0.1794 - accuracy: 0.9409 - val_loss: 3.5192 - val_accuracy: 0.4255\n",
            "Epoch 29/50\n",
            "38/38 [==============================] - 7s 174ms/step - loss: 0.2784 - accuracy: 0.9086 - val_loss: 3.6764 - val_accuracy: 0.3830\n",
            "Epoch 30/50\n",
            "38/38 [==============================] - 5s 136ms/step - loss: 0.2123 - accuracy: 0.9355 - val_loss: 3.7318 - val_accuracy: 0.4255\n",
            "Epoch 31/50\n",
            "38/38 [==============================] - 6s 171ms/step - loss: 0.1681 - accuracy: 0.9301 - val_loss: 3.4308 - val_accuracy: 0.4468\n",
            "Epoch 32/50\n",
            "38/38 [==============================] - 5s 137ms/step - loss: 0.1278 - accuracy: 0.9516 - val_loss: 3.7396 - val_accuracy: 0.3830\n",
            "Epoch 33/50\n",
            "38/38 [==============================] - 6s 170ms/step - loss: 0.1492 - accuracy: 0.9355 - val_loss: 3.9141 - val_accuracy: 0.3830\n",
            "Epoch 34/50\n",
            "38/38 [==============================] - 5s 138ms/step - loss: 0.1331 - accuracy: 0.9462 - val_loss: 3.5879 - val_accuracy: 0.4043\n",
            "Epoch 35/50\n",
            "38/38 [==============================] - 6s 148ms/step - loss: 0.1147 - accuracy: 0.9516 - val_loss: 3.8970 - val_accuracy: 0.4255\n",
            "Epoch 36/50\n",
            "38/38 [==============================] - 6s 158ms/step - loss: 0.1025 - accuracy: 0.9462 - val_loss: 3.8781 - val_accuracy: 0.3830\n",
            "Epoch 37/50\n",
            "38/38 [==============================] - 5s 134ms/step - loss: 0.1193 - accuracy: 0.9570 - val_loss: 4.4496 - val_accuracy: 0.3830\n",
            "Epoch 38/50\n",
            "38/38 [==============================] - 7s 174ms/step - loss: 0.0836 - accuracy: 0.9731 - val_loss: 3.9798 - val_accuracy: 0.3830\n",
            "Epoch 39/50\n",
            "38/38 [==============================] - 5s 139ms/step - loss: 0.0853 - accuracy: 0.9785 - val_loss: 4.1710 - val_accuracy: 0.3830\n",
            "Epoch 40/50\n",
            "38/38 [==============================] - 7s 198ms/step - loss: 0.0720 - accuracy: 0.9677 - val_loss: 4.3322 - val_accuracy: 0.3830\n",
            "Epoch 41/50\n",
            "38/38 [==============================] - 6s 171ms/step - loss: 0.0811 - accuracy: 0.9570 - val_loss: 4.4490 - val_accuracy: 0.3830\n",
            "Epoch 42/50\n",
            "38/38 [==============================] - 8s 212ms/step - loss: 0.0915 - accuracy: 0.9677 - val_loss: 4.1707 - val_accuracy: 0.3830\n",
            "Epoch 43/50\n",
            "38/38 [==============================] - 5s 139ms/step - loss: 0.1115 - accuracy: 0.9624 - val_loss: 4.6857 - val_accuracy: 0.4255\n",
            "Epoch 44/50\n",
            "38/38 [==============================] - 7s 174ms/step - loss: 0.1150 - accuracy: 0.9570 - val_loss: 4.3101 - val_accuracy: 0.4043\n",
            "Epoch 45/50\n",
            "38/38 [==============================] - 6s 150ms/step - loss: 0.0735 - accuracy: 0.9624 - val_loss: 4.4664 - val_accuracy: 0.4255\n",
            "Epoch 46/50\n",
            "38/38 [==============================] - 7s 187ms/step - loss: 0.0801 - accuracy: 0.9624 - val_loss: 4.1534 - val_accuracy: 0.4043\n",
            "Epoch 47/50\n",
            "38/38 [==============================] - 6s 148ms/step - loss: 0.0756 - accuracy: 0.9731 - val_loss: 4.6107 - val_accuracy: 0.4255\n",
            "Epoch 48/50\n",
            "38/38 [==============================] - 7s 179ms/step - loss: 0.1235 - accuracy: 0.9516 - val_loss: 4.1655 - val_accuracy: 0.4255\n",
            "Epoch 49/50\n",
            "38/38 [==============================] - 5s 139ms/step - loss: 0.1356 - accuracy: 0.9624 - val_loss: 4.4188 - val_accuracy: 0.4043\n",
            "Epoch 50/50\n",
            "38/38 [==============================] - 6s 161ms/step - loss: 0.2051 - accuracy: 0.9462 - val_loss: 4.1093 - val_accuracy: 0.3830\n"
          ]
        },
        {
          "output_type": "execute_result",
          "data": {
            "text/plain": [
              "<keras.callbacks.History at 0x7f1f23db7850>"
            ]
          },
          "metadata": {},
          "execution_count": 29
        }
      ]
    },
    {
      "cell_type": "markdown",
      "source": [
        "# **Predict by entering input and agin preprocess the text like tokenize,padding and predict after that use argmax to convert integer probability values to its normal form or readable form**"
      ],
      "metadata": {
        "id": "AmgvI9T-UjQb"
      }
    },
    {
      "cell_type": "code",
      "source": [
        "new_hindi_text = \"कश्मीर में नरेंद्र अधिनियम लागू हुआ\"\n",
        "words = new_hindi_text.split()\n",
        "\n",
        "predicted_labels = []\n",
        "for word in words:\n",
        "    word_seq = tokenizer.texts_to_sequences([word])\n",
        "    word_padded = pad_sequences(word_seq, maxlen=50, padding='post', truncating='post')\n",
        "    prediction = model.predict(word_padded)\n",
        "    predicted_index = prediction.argmax()\n",
        "    predicted_label = label_encoder.inverse_transform([predicted_index])[0]\n",
        "    predicted_labels.append(predicted_label)\n",
        "\n",
        "output = \", \".join([f\"{word}: {label}\" for word, label in zip(words, predicted_labels)])\n",
        "print(output)\n"
      ],
      "metadata": {
        "colab": {
          "base_uri": "https://localhost:8080/"
        },
        "id": "QFyxWf-RQx7O",
        "outputId": "30b20b1c-e77f-4f4e-bac9-1fe32e2c1b9b"
      },
      "execution_count": null,
      "outputs": [
        {
          "output_type": "stream",
          "name": "stdout",
          "text": [
            "1/1 [==============================] - 0s 149ms/step\n",
            "1/1 [==============================] - 0s 100ms/step\n",
            "1/1 [==============================] - 0s 43ms/step\n",
            "1/1 [==============================] - 0s 32ms/step\n",
            "1/1 [==============================] - 0s 33ms/step\n",
            "1/1 [==============================] - 0s 33ms/step\n",
            "कश्मीर: NNP, में: NST, नरेंद्र: NN, अधिनियम: NN, लागू: NST, हुआ: NST\n"
          ]
        }
      ]
    }
  ]
}